{
 "cells": [
  {
   "cell_type": "markdown",
   "metadata": {},
   "source": [
    "# Importing neccessary libraries"
   ]
  },
  {
   "cell_type": "code",
   "execution_count": 7,
   "metadata": {
    "collapsed": true
   },
   "outputs": [],
   "source": [
    "#Refer to the code \"Plot - No. of encounters every week for a given patient\" for more explaination to initial steps\n",
    "from xml.etree.ElementTree import parse\n",
    "from pandas import DataFrame"
   ]
  },
  {
   "cell_type": "markdown",
   "metadata": {},
   "source": [
    "# Reading the input XML file of a given patient and obtaining a pointer to it"
   ]
  },
  {
   "cell_type": "code",
   "execution_count": 8,
   "metadata": {
    "collapsed": false
   },
   "outputs": [],
   "source": [
    "doc = parse('generated-data\\patient-613876.fhir-bundle.xml')"
   ]
  },
  {
   "cell_type": "markdown",
   "metadata": {},
   "source": [
    "# Extracting all the encounter dates from the input file"
   ]
  },
  {
   "cell_type": "code",
   "execution_count": 9,
   "metadata": {
    "collapsed": true
   },
   "outputs": [],
   "source": [
    "encounter_dates = []\n",
    "for encounter in doc.findall('.//{http://hl7.org/fhir}Encounter'):\n",
    "    period = encounter.find('{http://hl7.org/fhir}period')\n",
    "    start_date = period.find('{http://hl7.org/fhir}start')\n",
    "    encounter_dates.append(start_date.get('value'))"
   ]
  },
  {
   "cell_type": "markdown",
   "metadata": {},
   "source": [
    "# Extracting both the blood pressures from the input file"
   ]
  },
  {
   "cell_type": "code",
   "execution_count": 10,
   "metadata": {
    "collapsed": true
   },
   "outputs": [],
   "source": [
    "\"\"\"\n",
    "If you have a look at the input file, the format/structure in which both the blood pressures are stored, is as follows:\n",
    "<entry ...>\n",
    "    <Observation ...>\n",
    "        <text>\n",
    "            <status .../>\n",
    "            <div ...>1998-08-26: Systolic blood pressure = 121 mm[Hg]</div>\n",
    "                                        or\n",
    "            <div ...>1998-08-26: Diastolic blood pressure = 76 mm[Hg]</div>\n",
    "        </text>\n",
    "        <name>...</name>\n",
    "        <valueQuantity>\n",
    "            <value value=\"76.0\"/>\n",
    "            ...\n",
    "        </valueQuantity>\n",
    "        ...\n",
    "    </Observation>\n",
    "</entry>\n",
    "\"\"\"\n",
    "systolic_bps = [] #List to store all the systolic blood pressures\n",
    "diastolic_bps = [] #List to store all the diastolic blood pressures\n",
    "for observation in doc.findall('.//{http://hl7.org/fhir}Observation'): #Iterating through all the 'Observation' child elements in the file\n",
    "    text_ele = observation.find('{http://hl7.org/fhir}text') #Finding the 'text' child element in each of the 'Observation' elements\n",
    "    div = text_ele.find('{http://www.w3.org/1999/xhtml}div') #Finding the 'div' child element in the 'text' element\n",
    "    if div.text.find('Systolic') != -1: #If the text of the 'text' element has one of the words \"Systolic\", then we get its value\n",
    "        value_quant = observation.find('{http://hl7.org/fhir}valueQuantity') #We find the element 'valueQuantity' which is the child\n",
    "                                                                             #element of 'Observation' element\n",
    "        value = value_quant.find('{http://hl7.org/fhir}value') #The child element 'value' of 'valueQuantity' contains the value of sys bp\n",
    "        systolic_bps.append(value.get('value')) #Collecting all the sys bp in its list, by accessing the value attribute of 'value' element\n",
    "    if div.text.find('Diastolic') != -1: #Else if the text of the 'text' element has one of the words \"Diastolic\", then we get its value\n",
    "        value_quant = observation.find('{http://hl7.org/fhir}valueQuantity') #Same as above\n",
    "        value = value_quant.find('{http://hl7.org/fhir}value')\n",
    "        diastolic_bps.append(value.get('value')) #Collecting all the dias bp in its list, by accessing the value attribute of 'value' element"
   ]
  },
  {
   "cell_type": "code",
   "execution_count": 11,
   "metadata": {
    "collapsed": true
   },
   "outputs": [],
   "source": [
    "#Creating a dict out of the three lists\n",
    "enc_dict = {}\n",
    "enc_dict['encounter_date'] = encounter_dates\n",
    "enc_dict['systolic_bp'] = systolic_bps\n",
    "enc_dict['diastolic_bp'] = diastolic_bps"
   ]
  },
  {
   "cell_type": "code",
   "execution_count": 16,
   "metadata": {
    "collapsed": false
   },
   "outputs": [
    {
     "data": {
      "text/plain": [
       "<matplotlib.axes._subplots.AxesSubplot at 0xc732c88>"
      ]
     },
     "execution_count": 16,
     "metadata": {},
     "output_type": "execute_result"
    },
    {
     "data": {
      "image/png": "[encoded data removed]",
      "text/plain": [
       "<matplotlib.figure.Figure at 0xa45b9e8>"
      ]
     },
     "metadata": {},
     "output_type": "display_data"
    }
   ],
   "source": [
    "#Converting the dict to Pandas DataFrame structure for easy plotting\n",
    "encounters = DataFrame(enc_dict, columns=['encounter_date', 'diastolic_bp', 'systolic_bp'])\n",
    "#Converting the columns into appropriate standard data types, dates to date and numeric quantities to numeric data type\n",
    "encounters = encounters.convert_objects(convert_dates='coerce', convert_numeric=True)\n",
    "#Reindexing the dataframe with 'encounter_date' as the index\n",
    "encounters.set_index(['encounter_date'],inplace=True)\n",
    "#Plot graph to show the result\n",
    "encounters.plot(x_compat=True,marker='o')"
   ]
  }
 ],
 "metadata": {
  "kernelspec": {
   "display_name": "Python 2",
   "language": "python",
   "name": "python2"
  },
  "language_info": {
   "codemirror_mode": {
    "name": "ipython",
    "version": 2
   },
   "file_extension": ".py",
   "mimetype": "text/x-python",
   "name": "python",
   "nbconvert_exporter": "python",
   "pygments_lexer": "ipython2",
   "version": "2.7.9"
  }
 },
 "nbformat": 4,
 "nbformat_minor": 0
}
