{
 "cells": [
  {
   "cell_type": "markdown",
   "metadata": {},
   "source": [
    "# Importing neccessary libraries"
   ]
  },
  {
   "cell_type": "code",
   "execution_count": 6,
   "metadata": {
    "collapsed": true
   },
   "outputs": [],
   "source": [
    "from xml.etree.ElementTree import parse #This library is required for parsing the XML datafile.\n",
    "from pandas import DataFrame, Series #Pandas library for performing data analysis & visualization.\n",
    "%matplotlib inline"
   ]
  },
  {
   "cell_type": "markdown",
   "metadata": {},
   "source": [
    "# Reading the input XML file of a given patient and obtaining a pointer to it"
   ]
  },
  {
   "cell_type": "code",
   "execution_count": 7,
   "metadata": {
    "collapsed": true
   },
   "outputs": [],
   "source": [
    "doc = parse('generated-data\\patient-613876.fhir-bundle.xml') #'doc' will point to the file, so that we can traverse through it.\n",
    "#It can also be inferred as a pointer to the ROOT element of the XML structure."
   ]
  },
  {
   "cell_type": "markdown",
   "metadata": {},
   "source": [
    "# Extracting all the encounter dates from the input file"
   ]
  },
  {
   "cell_type": "code",
   "execution_count": 8,
   "metadata": {
    "collapsed": true
   },
   "outputs": [],
   "source": [
    "\"\"\"\n",
    "If you have a look at the input file, the format/structure in which the Encounter date is stored, is as follows:\n",
    "<entry ...>\n",
    "    <Encounter ...>\n",
    "    ...\n",
    "        <period>\n",
    "            <start value=\"1997-04-29\"/>\n",
    "            <end .../>\n",
    "        </period>\n",
    "    </Encounter>\n",
    "</entry>\n",
    "\"\"\"\n",
    "encounter_dates = [] #List to store all the encounter dates\n",
    "for encounter in doc.findall('.//{http://hl7.org/fhir}Encounter'): #Iterating through all the 'Encounter' child elements in the file\n",
    "    period = encounter.find('{http://hl7.org/fhir}period') #Finding the 'period' child element in each of the 'Encounter' elements\n",
    "    start_date = period.find('{http://hl7.org/fhir}start') #Finding the 'start' child element in the 'period' element\n",
    "    encounter_dates.append(start_date.get('value')) #Collecting all the encounter dates in the above list, by accessing the value attribute of 'start' element"
   ]
  },
  {
   "cell_type": "code",
   "execution_count": 9,
   "metadata": {
    "collapsed": false
   },
   "outputs": [
    {
     "name": "stdout",
     "output_type": "stream",
     "text": [
      "         date\n",
      "0  1997-04-29\n",
      "1  1998-08-26\n",
      "2  1998-08-28\n",
      "3  1999-08-04\n",
      "4  1999-08-05\n",
      "5  1999-08-10\n",
      "6  2002-03-29\n",
      "7  2002-05-01\n",
      "8  2002-05-02\n",
      "9  2002-05-31\n",
      "10 2002-06-14\n",
      "11 2002-07-03\n",
      "12 2002-07-22\n",
      "13 2002-07-23\n",
      "14 2002-07-24\n",
      "15 2003-05-22\n",
      "16 2003-07-03\n",
      "17 2003-07-16\n",
      "18 2003-07-17\n",
      "19 2003-10-16\n",
      "20 2003-10-17\n",
      "21 2003-12-12\n",
      "22 2004-03-30\n",
      "23 2004-06-03\n",
      "24 2004-06-04\n",
      "25 2005-01-12\n",
      "26 2008-02-26\n"
     ]
    }
   ],
   "source": [
    "#Converting the list to Pandas DataFrame structure for easy plotting\n",
    "enc_dates = DataFrame(encounter_dates, columns= ['date'])\n",
    "#Converting the dates into standard date format\n",
    "enc_dates.date = enc_dates.date.astype(\"datetime64\")\n",
    "print enc_dates"
   ]
  },
  {
   "cell_type": "code",
   "execution_count": 10,
   "metadata": {
    "collapsed": false
   },
   "outputs": [
    {
     "data": {
      "text/plain": [
       "<matplotlib.axes._subplots.AxesSubplot at 0x9fca048>"
      ]
     },
     "execution_count": 10,
     "metadata": {},
     "output_type": "execute_result"
    },
    {
     "data": {
      "image/png": "[encoded data removed]",
      "text/plain": [
       "<matplotlib.figure.Figure at 0x9ed5e80>"
      ]
     },
     "metadata": {},
     "output_type": "display_data"
    }
   ],
   "source": [
    "#Here, we first group the encounter dates by year, and then by week\n",
    "#And then plot a graph to show the result\n",
    "enc_dates.groupby([enc_dates.date.dt.week, enc_dates.date.dt.year]).count().plot(kind=\"barh\")"
   ]
  }
 ],
 "metadata": {
  "kernelspec": {
   "display_name": "Python 2",
   "language": "python",
   "name": "python2"
  },
  "language_info": {
   "codemirror_mode": {
    "name": "ipython",
    "version": 2
   },
   "file_extension": ".py",
   "mimetype": "text/x-python",
   "name": "python",
   "nbconvert_exporter": "python",
   "pygments_lexer": "ipython2",
   "version": "2.7.9"
  }
 },
 "nbformat": 4,
 "nbformat_minor": 0
}
