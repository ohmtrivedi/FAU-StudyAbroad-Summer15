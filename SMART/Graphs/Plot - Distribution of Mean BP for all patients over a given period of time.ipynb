{
 "cells": [
  {
   "cell_type": "markdown",
   "metadata": {},
   "source": [
    "# Importing neccessary libraries"
   ]
  },
  {
   "cell_type": "code",
   "execution_count": 6,
   "metadata": {
    "collapsed": true
   },
   "outputs": [],
   "source": [
    "from xml.etree.ElementTree import parse\n",
    "from pandas import DataFrame\n",
    "import matplotlib.pyplot as plt\n",
    "import os\n",
    "%matplotlib inline"
   ]
  },
  {
   "cell_type": "markdown",
   "metadata": {},
   "source": [
    "# Getting a list of all the files in the present working directory"
   ]
  },
  {
   "cell_type": "code",
   "execution_count": 2,
   "metadata": {
    "collapsed": true
   },
   "outputs": [],
   "source": [
    "path = \"C:\\Users\\Ohm\\Documents\\Python Scripts\\XML Parsing\\generated-data\"\n",
    "dirs = os.listdir(path)"
   ]
  },
  {
   "cell_type": "markdown",
   "metadata": {},
   "source": [
    "# Calculating Mean BP of each patient for the period 2004-2006"
   ]
  },
  {
   "cell_type": "code",
   "execution_count": 4,
   "metadata": {
    "collapsed": false
   },
   "outputs": [
    {
     "name": "stderr",
     "output_type": "stream",
     "text": [
      "C:\\Anaconda\\lib\\site-packages\\IPython\\kernel\\__main__.py:47: SettingWithCopyWarning: \n",
      "A value is trying to be set on a copy of a slice from a DataFrame.\n",
      "Try using .loc[row_indexer,col_indexer] = value instead\n",
      "\n",
      "See the the caveats in the documentation: http://pandas.pydata.org/pandas-docs/stable/indexing.html#indexing-view-versus-copy\n"
     ]
    }
   ],
   "source": [
    "#Refer to the code \"Plot - No. of encounters every week for a given patient\" \n",
    "# and code \"Plot - No. of encounters every week for a given patient\"\n",
    "#for more explaination to initial steps\n",
    "mean_bp = []  #List to store all the mean blood pressures\n",
    "for patient in dirs: #Iterating through all the patients\n",
    "    filename = 'generated-data\\\\' + patient\n",
    "    doc = parse(filename)\n",
    "\n",
    "    encounter_dates = []\n",
    "    \n",
    "    for encounter in doc.findall('.//{http://hl7.org/fhir}Encounter'):\n",
    "        period = encounter.find('{http://hl7.org/fhir}period')\n",
    "        start_date = period.find('{http://hl7.org/fhir}start')\n",
    "        encounter_dates.append(start_date.get('value'))\n",
    "    \n",
    "    if not encounter_dates: #Skip if the patient does not have any encounter\"\n",
    "        continue\n",
    "    \n",
    "    systolic_bps = []\n",
    "    diastolic_bps = []\n",
    "    \n",
    "    for observation in doc.findall('.//{http://hl7.org/fhir}Observation'):\n",
    "        text_ele = observation.find('{http://hl7.org/fhir}text')\n",
    "        div = text_ele.find('{http://www.w3.org/1999/xhtml}div')\n",
    "        if div.text.find('Systolic') != -1:\n",
    "            value_quant = observation.find('{http://hl7.org/fhir}valueQuantity')\n",
    "            value = value_quant.find('{http://hl7.org/fhir}value')\n",
    "            systolic_bps.append(value.get('value'))\n",
    "        if div.text.find('Diastolic') != -1:\n",
    "            value_quant = observation.find('{http://hl7.org/fhir}valueQuantity')\n",
    "            value = value_quant.find('{http://hl7.org/fhir}value')\n",
    "            diastolic_bps.append(value.get('value'))\n",
    "    \n",
    "    if (not systolic_bps) & (not diastolic_bps): #Skip if his/her Systolic/Diastolic BP has never been observed\n",
    "        continue\n",
    "    \n",
    "    enc_dict = {}\n",
    "    enc_dict['encounter_date'] = encounter_dates\n",
    "    enc_dict['systolic_bp'] = systolic_bps\n",
    "    enc_dict['diastolic_bp'] = diastolic_bps\n",
    "    \n",
    "    encounters = DataFrame(enc_dict, columns=['encounter_date', 'diastolic_bp', 'systolic_bp'])\n",
    "    encounters = encounters.convert_objects(convert_dates='coerce', convert_numeric=True)\n",
    "    #Select patient's records during the period 2004-2006\n",
    "    enc_period = encounters[(encounters.encounter_date.dt.year >= 2004) & (encounters.encounter_date.dt.year <= 2006)]\n",
    "    if enc_period.empty: #Skip if no record exists for the period 2004-2006\"\n",
    "        continue\n",
    "    \n",
    "    #Calculate the mean blood pressure for each encounter during 2004-2006\n",
    "    enc_period['mean_bp'] = enc_period['diastolic_bp'] + ((enc_period['systolic_bp']-enc_period['diastolic_bp'])/3)\n",
    "    #Calculate the mean of all mean blood pressures\n",
    "    mbp = enc_period['mean_bp'].mean()\n",
    "    #Add the mean blood pressure of the patient during 2004-2006 to the list\n",
    "    mean_bp.append(mbp)"
   ]
  },
  {
   "cell_type": "markdown",
   "metadata": {},
   "source": [
    "# Plot a histogram for the calculated mean blood pressures of all patients during the period 2004-2006"
   ]
  },
  {
   "cell_type": "code",
   "execution_count": 7,
   "metadata": {
    "collapsed": false
   },
   "outputs": [
    {
     "data": {
      "image/png": "[encoded data removed]",
      "text/plain": [
       "<matplotlib.figure.Figure at 0xb71a630>"
      ]
     },
     "metadata": {},
     "output_type": "display_data"
    }
   ],
   "source": [
    "plt.hist(mean_bp, stacked=True)\n",
    "plt.title(\"Gaussian Histogram\")\n",
    "plt.xlabel(\"Mean Blood Pressure\")\n",
    "plt.ylabel(\"Frequency\")\n",
    "\n",
    "fig = plt.gcf()"
   ]
  },
  {
   "cell_type": "code",
   "execution_count": null,
   "metadata": {
    "collapsed": true
   },
   "outputs": [],
   "source": []
  }
 ],
 "metadata": {
  "kernelspec": {
   "display_name": "Python 2",
   "language": "python",
   "name": "python2"
  },
  "language_info": {
   "codemirror_mode": {
    "name": "ipython",
    "version": 2
   },
   "file_extension": ".py",
   "mimetype": "text/x-python",
   "name": "python",
   "nbconvert_exporter": "python",
   "pygments_lexer": "ipython2",
   "version": "2.7.9"
  }
 },
 "nbformat": 4,
 "nbformat_minor": 0
}
